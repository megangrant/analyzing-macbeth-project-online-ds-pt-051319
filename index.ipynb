{
 "cells": [
  {
   "cell_type": "markdown",
   "metadata": {},
   "source": [
    "# Project: Analyzing Macbeth\n",
    "\n",
    "## Introduction\n",
    "For our first day and first data science project, we're going to do some rudimentry analysis of Shakespeare's classic play: Macbeth! You will get practice working with lists, condtionals and dictionaries, visualizing data, and thinking analytically about data.\n",
    "\n",
    "## Objectives\n",
    "You will be able to:\n",
    "* Show mastery of the content covered in this section\n",
    "\n",
    "## Getting the Data\n",
    "Here we start by importing a python package and using it to pull the transcript of Macbeth from the project Gutenberg website. We also preview a few details about what is now stored in the variable macbeth; it's a string with 119,846 characters, the first 500 of which are printed below. "
   ]
  },
  {
   "cell_type": "code",
   "execution_count": 2,
   "metadata": {},
   "outputs": [
    {
     "name": "stdout",
     "output_type": "stream",
     "text": [
      "<class 'str'>\n",
      "120253\n",
      "﻿\r\n",
      "\r\n",
      "***The Project Gutenberg's Etext of Shakespeare's First Folio***\r\n",
      "********************The Tragedie of Macbeth*********************\r\n",
      "\r\n",
      "\r\n",
      "\r\n",
      "*******************************************************************\r\n",
      "THIS EBOOK WAS ONE OF PROJECT GUTENBERG'S EARLY FILES PRODUCED AT A\r\n",
      "TIME WHEN PROOFING METHODS AND TOOLS WERE NOT WELL DEVELOPED. THERE\r\n",
      "IS AN IMPROVED EDITION OF THIS TITLE WHICH MAY BE VIEWED AS EBOOK\r\n",
      "(#1533) at https://www.gutenberg.org/ebooks/1533\r\n",
      "*********************************\n"
     ]
    }
   ],
   "source": [
    "import requests\n",
    "macbeth = requests.get('http://www.gutenberg.org/cache/epub/2264/pg2264.txt').text\n",
    "\n",
    "print(type(macbeth))\n",
    "print(len(macbeth))\n",
    "print(macbeth[:500])"
   ]
  },
  {
   "cell_type": "markdown",
   "metadata": {},
   "source": [
    "## Your Task\n",
    "\n",
    "Your task is to create a bar graph of the 25 most common words in Shakespeare's Macbeth.  \n",
    "\n",
    "\n",
    "A common python programming pattern to counting objects, produce histograms, or update statistics is to make calls to a dictionary as you iterate through a list. For example, given a list of words, you can create a dictionary to store counts and then iterate through the list of words, checking how many times each word has appeared using your dictionary, and updating the dictionary count now that you've seen that word again. The `dictionary.get()` method is very useful in doing this. Read the docstring for the dictionary.get() method and use it along with the pseudocode above to create a bar graph of the 25 most common words from the transcript of Macbeth which has been loaded into a variable 'Macbeth'. Be sure to include a title and appropriate labels for your graph."
   ]
  },
  {
   "cell_type": "code",
   "execution_count": 14,
   "metadata": {},
   "outputs": [
    {
     "data": {
      "text/plain": [
       "['the',\n",
       " 'and',\n",
       " 'of',\n",
       " 'to',\n",
       " 'I',\n",
       " 'a',\n",
       " 'you',\n",
       " 'in',\n",
       " 'is',\n",
       " 'my',\n",
       " 'And',\n",
       " 'that',\n",
       " 'not',\n",
       " 'with',\n",
       " 'Macb.',\n",
       " 'be',\n",
       " 'The',\n",
       " 'it',\n",
       " 'his',\n",
       " 'your',\n",
       " 'our',\n",
       " 'haue',\n",
       " 'this',\n",
       " 'for',\n",
       " 'That']"
      ]
     },
     "execution_count": 14,
     "metadata": {},
     "output_type": "execute_result"
    }
   ],
   "source": [
    "\n"
   ]
  },
  {
   "cell_type": "code",
   "execution_count": 17,
   "metadata": {},
   "outputs": [
    {
     "data": {
      "image/png": "[encoded data removed]",
      "text/plain": [
       "<Figure size 1080x432 with 1 Axes>"
      ]
     },
     "metadata": {
      "needs_background": "light"
     },
     "output_type": "display_data"
    }
   ],
   "source": [
    "# Your code here\n",
    "\n",
    "# Put the entirety of Macbeth into a list of words\n",
    "length = len(macbeth)\n",
    "total_list_macbeth = (macbeth[:length])\n",
    "\n",
    "# Split the transcript into words\n",
    "list_of_macbeth = total_list_macbeth.split()\n",
    "unique_words = set(list_of_macbeth)\n",
    "\n",
    "# Create a dictionary\n",
    "macbeth_dictionary = dict.fromkeys(unique_words, 0)\n",
    "total_length = len(unique_words)\n",
    "\n",
    "# Iterate through the text of Macbeth\n",
    "macbeth_dictionary = dict.fromkeys(unique_words, 0)\n",
    "for word in list_of_macbeth:\n",
    "    macbeth_dictionary[word] = macbeth_dictionary[word]+ 1\n",
    "\n",
    "#Turning the dictionary into a list of tuples and order those tuples\n",
    "macbeth_tuples = macbeth_dictionary.items()\n",
    "\n",
    "sorted_tuples = sorted(macbeth_tuples, key = lambda tup : tup[1] , reverse = True)\n",
    "\n",
    "#Select only the top 25 and split them into 2 lists\n",
    "top_twentyfive = sorted_tuples[0:25]\n",
    "macbeth_words = []\n",
    "macbeth_values = []\n",
    "\n",
    "for i in top_twentyfive:\n",
    "    macbeth_words.append(i[0])\n",
    "    macbeth_values.append(i[1])\n",
    "\n",
    "# Create Bar Graph\n",
    "import matplotlib.pyplot as plt\n",
    "%matplotlib inline\n",
    "\n",
    "plt.figure(figsize=(15,6))\n",
    "plt.bar(macbeth_words, macbeth_values, label='Times the words were mentionned')\n",
    "\n",
    "plt.xlabel('Words mentionned in Macbeth')\n",
    "plt.ylabel('Number of times mentionned')\n",
    "\n",
    "plt.title('Words of Macbeth')\n",
    "plt.legend()\n",
    "\n",
    "# Output the final plot\n",
    "plt.show()\n",
    "\n",
    "# Include descriptive titles and labels"
   ]
  },
  {
   "cell_type": "markdown",
   "metadata": {},
   "source": [
    "## Level Up (Optional)\n",
    "This project should take you about an hour and a half to complete. If you're done much more quickly than that and are not behind in the course, feel free to deepen your knowledge by completing any or all of the following tasks until you run out of time:\n",
    "* Create a list of top characters by mentions of their names \n",
    "* Split the text by which character is talking\n",
    "* Create subgraphs of the most common words by character\n",
    "* Reduce the string to the text of the play itself. (Remove any initial notes, forward, introduction, appendix, etc.)\n",
    "* Come up with some other fun analyses of the text!\n",
    "\n",
    "## Summary\n",
    "Congratulations! You've got some extra practice combining various data types into useful programming patterns and done an initial analysis of a classic text!"
   ]
  },
  {
   "cell_type": "code",
   "execution_count": null,
   "metadata": {},
   "outputs": [],
   "source": []
  }
 ],
 "metadata": {
  "kernelspec": {
   "display_name": "learn-env",
   "language": "python",
   "name": "learn-env"
  },
  "language_info": {
   "codemirror_mode": {
    "name": "ipython",
    "version": 3
   },
   "file_extension": ".py",
   "mimetype": "text/x-python",
   "name": "python",
   "nbconvert_exporter": "python",
   "pygments_lexer": "ipython3",
   "version": "3.6.6"
  }
 },
 "nbformat": 4,
 "nbformat_minor": 2
}
